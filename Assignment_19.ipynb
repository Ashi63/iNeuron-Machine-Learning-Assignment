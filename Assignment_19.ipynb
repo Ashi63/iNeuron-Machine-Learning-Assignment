{
 "cells": [
  {
   "cell_type": "markdown",
   "id": "658f7cb1",
   "metadata": {},
   "source": [
    "### 1. A set of one-dimensional data points is given to you: 5, 10, 15, 20, 25, 30, 35. Assume that k = 2 and that the first set of random centroid is 15, 32, and that the second set is 12, 30.\n",
    "a) Using the k-means method, create two clusters for each set of centroid described above.\n",
    "b) For each set of centroid values, calculate the SSE.\n"
   ]
  },
  {
   "cell_type": "markdown",
   "id": "a7b486d3",
   "metadata": {},
   "source": [
    "a) Using the k-means method, we can create two clusters for each set of centroids as follows:\n",
    "\n",
    "For the first set of centroids (15, 32), we can create two clusters as follows:\n",
    "\n",
    "Cluster 1: {5, 10, 15, 20, 25}\n",
    "Cluster 2: {30, 35}\n",
    "For the second set of centroids (12, 30), we can create two clusters as follows:\n",
    "\n",
    "Cluster 1: {5, 10, 15}\n",
    "Cluster 2: {20, 25, 30, 35}\n",
    "    \n",
    "b) To calculate the SSE (sum of squared errors) for each set of centroid values, we can use the following formula:\n",
    "\n",
    "SSE = Σ(xi - ci)^2\n",
    "\n",
    "where xi is a data point, ci is the centroid of the cluster to which xi belongs.\n",
    "\n",
    "For the first set of centroids (15, 32), the SSE can be calculated as follows:\n",
    "\n",
    "For Cluster 1: SSE = (5-15)^2 + (10-15)^2 + (15-15)^2 + (20-15)^2 + (25-15)^2 = 500\n",
    "For Cluster 2: SSE = (30-32)^2 + (35-32)^2 = 13\n",
    "Total SSE for the first set of centroids = 500 + 13 = 513\n",
    "\n",
    "For the second set of centroids (12, 30), the SSE can be calculated as follows:\n",
    "\n",
    "For Cluster 1: SSE = (5-12)^2 + (10-12)^2 + (15-12)^2 = 58\n",
    "For Cluster 2: SSE = (20-30)^2 + (25-30)^2 + (30-30)^2 + (35-30)^2 = 310\n",
    "Total SSE for the second set of centroids = 58 + 310 = 368"
   ]
  },
  {
   "cell_type": "markdown",
   "id": "524ef66d",
   "metadata": {},
   "source": [
    "### 2. Describe how the Market Basket Research makes use of association analysis concepts."
   ]
  },
  {
   "cell_type": "markdown",
   "id": "e024d772",
   "metadata": {},
   "source": [
    "Market Basket Analysis is a technique that is widely used in retail and e-commerce to identify associations between products that are frequently purchased together by customers. This technique makes use of association analysis concepts, which are used to identify patterns in large datasets.\n",
    "\n",
    "The basic idea of Market Basket Analysis is to find groups of items that are frequently purchased together by customers. This is done by analyzing the transactional data of customers, which includes the list of items that were purchased by them during a particular transaction.\n",
    "\n",
    "Association analysis concepts such as support, confidence, and lift are used to identify the relationships between different items. Support is a measure of the frequency of occurrence of a particular item or itemset in the dataset. Confidence is a measure of the strength of the association between two items, given that one of the items is already in the basket. Lift is a measure of the strength of the association between two items, independent of their individual frequencies.\n",
    "\n",
    "Market Basket Analysis makes use of these association analysis concepts to identify the most frequently co-occurring items, as well as the strength of the relationship between them. This information is then used by retailers to optimize their store layouts, product placements, and promotions to increase sales and customer satisfaction.\n",
    "\n",
    "For example, a retailer may find that customers who buy bread are more likely to buy butter as well. Armed with this information, the retailer can place the bread and butter in close proximity to each other, offer promotions that bundle the two items together, or use other marketing strategies to encourage customers to purchase both items at the same time. This can increase the retailer's revenue and improve customer satisfaction by making the shopping experience more convenient and enjoyable."
   ]
  },
  {
   "cell_type": "markdown",
   "id": "6f8587c1",
   "metadata": {},
   "source": [
    "### 3. Give an example of the Apriori algorithm for learning association rules."
   ]
  },
  {
   "cell_type": "markdown",
   "id": "a7a102f5",
   "metadata": {},
   "source": [
    "Suppose we have a dataset of customer transactions at a grocery store. The dataset contains information about the items purchased by each customer during a particular transaction. The objective is to identify the association between different items that are frequently purchased together by customers.\n",
    "\n",
    "The Apriori algorithm is a popular technique used for this purpose. The algorithm works in two phases:\n",
    "\n",
    "Generate frequent itemsets: The first phase of the Apriori algorithm involves generating frequent itemsets, i.e., sets of items that appear together in a large number of transactions. This is done by iteratively scanning the dataset to count the occurrences of different itemsets. Itemsets with a frequency above a specified threshold (known as the minimum support threshold) are considered to be frequent.\n",
    "\n",
    "Generate association rules: The second phase of the Apriori algorithm involves generating association rules, i.e., rules that describe the relationships between different items. These rules are generated by combining frequent itemsets in a way that satisfies a specified level of confidence.\n",
    "\n",
    "Here is an example of the Apriori algorithm for learning association rules:\n",
    "\n",
    "Suppose our dataset contains the following transactions:\n",
    "\n",
    "Transaction 1: Bread, Milk, Eggs\n",
    "Transaction 2: Bread, Cheese\n",
    "Transaction 3: Milk, Cheese\n",
    "Transaction 4: Bread, Milk, Cheese, Eggs\n",
    "Transaction 5: Milk, Eggs\n",
    "\n",
    "Step 1: Generate frequent itemsets\n",
    "\n",
    "In this step, we will generate frequent itemsets by scanning the dataset and counting the occurrences of different itemsets. Let's assume that the minimum support threshold is 2.\n",
    "\n",
    "Itemset {Bread}: 3\n",
    "Itemset {Milk}: 4\n",
    "Itemset {Eggs}: 2\n",
    "Itemset {Cheese}: 3\n",
    "Itemset {Bread, Milk}: 3\n",
    "Itemset {Milk, Eggs}: 2\n",
    "Itemset {Bread, Cheese}: 1\n",
    "Itemset {Milk, Cheese}: 2\n",
    "Itemset {Bread, Eggs}: 1\n",
    "Itemset {Cheese, Eggs}: 1\n",
    "Itemset {Bread, Milk, Cheese}: 1\n",
    "Itemset {Bread, Milk, Eggs}: 1\n",
    "Itemset {Milk, Cheese, Eggs}: 1\n",
    "Based on the minimum support threshold, the frequent itemsets are:\n",
    "\n",
    "Itemset {Bread}: 3\n",
    "Itemset {Milk}: 4\n",
    "Itemset {Eggs}: 2\n",
    "Itemset {Cheese}: 3\n",
    "Itemset {Bread, Milk}: 3\n",
    "Itemset {Milk, Eggs}: 2\n",
    "Itemset {Milk, Cheese}: 2\n",
    "Step 2: Generate association rules\n",
    "\n",
    "In this step, we will generate association rules by combining frequent itemsets that satisfy a specified level of confidence. Let's assume that the minimum confidence threshold is 0.5.\n",
    "\n",
    "Rule {Bread} -> {Milk}: support = 3, confidence = 3/3 = 1\n",
    "Rule {Milk} -> {Bread}: support = 3, confidence = 3/4 = 0.75\n",
    "Rule {Milk} -> {Eggs}: support = 2, confidence = 2/4 = 0.5\n",
    "Rule {Eggs} -> {Milk}: support = 2, confidence = 2/2 = 1\n",
    "Rule {Cheese} -> {Milk}: support = 2, confidence = 2/3 = 0.67\n",
    "Rule {Milk} -> {Cheese}: support = 2, confidence = 2/4 = 0."
   ]
  },
  {
   "cell_type": "markdown",
   "id": "3f75ec7d",
   "metadata": {},
   "source": [
    "### 4. In hierarchical clustering, how is the distance between clusters measured? Explain how this metric is used to decide when to end the iteration."
   ]
  },
  {
   "cell_type": "markdown",
   "id": "c6d41144",
   "metadata": {},
   "source": [
    "In hierarchical clustering, the distance between clusters is measured using a linkage metric, which determines how the distance between two clusters is calculated based on the distances between their individual members. There are several types of linkage metrics used in hierarchical clustering, including:\n",
    "\n",
    "1. Single linkage: calculates the distance between two clusters as the shortest distance between any two points in the two clusters.\n",
    "2. Complete linkage: calculates the distance between two clusters as the longest distance between any two points in the two clusters.\n",
    "3. Average linkage: calculates the distance between two clusters as the average distance between all pairs of points in the two clusters.\n",
    "These linkage metrics are used to build a dendrogram, which is a tree-like diagram that shows how the clusters are merged at each step of the clustering process. The dendrogram is constructed iteratively, by merging the two closest clusters at each step until all points belong to a single cluster.\n",
    "\n",
    "To decide when to end the iteration and stop merging clusters, a stopping criterion is defined based on the linkage metric. The most common stopping criteria are:\n",
    "\n",
    "1. Distance threshold: The iteration is stopped when the distance between any two clusters exceeds a predefined threshold.\n",
    "2. Number of clusters: The iteration is stopped when a predefined number of clusters is reached.\n",
    "3. Flat clusters: The iteration is stopped when the desired number of clusters is reached and each cluster contains a minimum number of points.\n",
    "\n",
    "The choice of stopping criterion depends on the specific application and the desired level of granularity in the final clustering. If the distance threshold is used as the stopping criterion, the threshold value can be chosen based on prior knowledge of the data or by visually inspecting the dendrogram to identify a suitable cutoff point. If the number of clusters is used as the stopping criterion, the number can be chosen based on the problem domain or by using a metric such as the elbow method to identify a suitable number of clusters."
   ]
  },
  {
   "cell_type": "markdown",
   "id": "94878a35",
   "metadata": {},
   "source": [
    "### 5. In the k-means algorithm, how do you recompute the cluster centroids?"
   ]
  },
  {
   "cell_type": "markdown",
   "id": "7066d5e7",
   "metadata": {},
   "source": [
    "In the k-means algorithm, the cluster centroids are recomputed at each iteration to improve the accuracy of the clustering. The following steps are used to recompute the cluster centroids:\n",
    "\n",
    "Assign each data point to the nearest cluster centroid: For each data point in the dataset, calculate its distance to each of the k cluster centroids. Assign the data point to the cluster with the nearest centroid.\n",
    "\n",
    "Recompute the centroid for each cluster: Calculate the mean of all data points assigned to each cluster. This will give you a new centroid for each cluster.\n",
    "\n",
    "Repeat until convergence: Repeat steps 1 and 2 until the cluster centroids no longer change or a maximum number of iterations is reached.\n",
    "\n",
    "The new centroids are computed by taking the mean of all data points assigned to each cluster. The mean is calculated separately for each dimension of the data points. For example, if the data points have two dimensions, x and y, then the new centroid for a cluster is computed as:\n",
    "\n",
    "new_centroid_x = mean(x-coordinate of all data points in the cluster)\n",
    "new_centroid_y = mean(y-coordinate of all data points in the cluster)\n",
    "\n",
    "\n",
    "The new centroid is the point with coordinates (new_centroid_x, new_centroid_y) in this example. This process is repeated for all k clusters to compute the new centroids.\n",
    "\n",
    "Recomputing the centroids in this way ensures that they are representative of the data points in each cluster, and therefore provides a better estimate of the true cluster centers."
   ]
  },
  {
   "cell_type": "markdown",
   "id": "3dd4d6ff",
   "metadata": {},
   "source": [
    "### 6. At the start of the clustering exercise, discuss one method for determining the required number of clusters."
   ]
  },
  {
   "cell_type": "markdown",
   "id": "d9a4e397",
   "metadata": {},
   "source": [
    "Determining the required number of clusters is an important step in clustering analysis, as it can have a significant impact on the accuracy and usefulness of the resulting clusters. One method for determining the optimal number of clusters is the elbow method.\n",
    "\n",
    "The elbow method involves plotting the within-cluster sum of squares (WCSS) as a function of the number of clusters. The WCSS measures the sum of squared distances between each data point and its assigned cluster centroid. As the number of clusters increases, the WCSS typically decreases, as the data points are able to be more closely assigned to their nearest cluster centroid. However, at some point, the rate of decrease slows down and the curve begins to level off. This point is called the elbow point, as it often looks like an elbow in the curve.\n",
    "\n",
    "The optimal number of clusters can be determined by selecting the number of clusters at the elbow point. This provides a balance between minimizing the WCSS and avoiding overfitting or creating too many clusters that may not have meaningful interpretations or uses. It is important to note that the elbow method is not always definitive and may require some subjective interpretation.\n",
    "\n",
    "Overall, the elbow method is a useful tool to help determine the optimal number of clusters at the start of the clustering exercise, but it should be used in conjunction with other methods and subject-matter expertise to ensure a robust and accurate clustering analysis."
   ]
  },
  {
   "cell_type": "markdown",
   "id": "55ae3f35",
   "metadata": {},
   "source": [
    "### 7. Discuss the k-means algorithm's advantages and disadvantages."
   ]
  },
  {
   "cell_type": "markdown",
   "id": "b6e4fa09",
   "metadata": {},
   "source": [
    "The k-means algorithm is a popular clustering algorithm that is widely used in many different fields. It has several advantages and disadvantages that are important to consider when using it for clustering analysis.\n",
    "\n",
    "Advantages of the k-means algorithm:\n",
    "\n",
    "1. Simple and easy to implement: The k-means algorithm is relatively simple to understand and implement, and does not require a lot of computational resources.\n",
    "\n",
    "2. Fast and efficient: The algorithm is computationally efficient and can handle large datasets with a high number of features.\n",
    "\n",
    "3. Flexible: The k-means algorithm can be used for a wide range of clustering problems, including both numerical and categorical data.\n",
    "\n",
    "4. Provides meaningful clusters: The algorithm can provide clusters that are well-separated and easily interpretable, making it useful for data exploration and analysis.\n",
    "\n",
    "Disadvantages of the k-means algorithm:\n",
    "\n",
    "1. Requires a priori knowledge of the number of clusters: The algorithm requires the user to specify the number of clusters, which can be challenging when the number of clusters is unknown or difficult to determine.\n",
    "\n",
    "2. Sensitive to initial conditions: The algorithm's results can be highly dependent on the initial placement of the cluster centroids, which can lead to different results with different initializations.\n",
    "\n",
    "3. Assumes clusters are spherical and equally sized: The k-means algorithm assumes that the clusters are spherical and equally sized, which may not be appropriate for all types of data.\n",
    "\n",
    "4. May not work well with non-linearly separable data: The algorithm may not work well with non-linearly separable data, where the decision boundary between clusters is not a straight line.\n",
    "\n",
    "Overall, the k-means algorithm is a powerful and widely used clustering algorithm that has several advantages and disadvantages. It is important to understand these pros and cons when using the algorithm for clustering analysis and to consider whether it is appropriate for the specific problem and dataset at hand."
   ]
  },
  {
   "cell_type": "markdown",
   "id": "71d2cf3c",
   "metadata": {},
   "source": [
    "### 8. Draw a diagram to demonstrate the principle of clustering."
   ]
  },
  {
   "attachments": {
    "k%20means%20clustering.png": {
     "image/png": "[encoded data removed]"
    }
   },
   "cell_type": "markdown",
   "id": "75bf753a",
   "metadata": {},
   "source": [
    "![k%20means%20clustering.png](attachment:k%20means%20clustering.png)"
   ]
  },
  {
   "cell_type": "markdown",
   "id": "6f23a70a",
   "metadata": {},
   "source": [
    "### 9. During your study, you discovered seven findings, which are listed in the data points below. Using the K-means algorithm, you want to build three clusters from these observations. The clusters C1, C2, and C3 have the following findings after the first iteration:\n",
    "\n",
    "C1: (2,2), (4,4), (6,6); C2: (2,2), (4,4), (6,6); C3: (2,2), (4,4),\n",
    "\n",
    "C2: (0,4), (4,0), (0,4), (0,4), (0,4), (0,4), (0,4), (0,4), (0,\n",
    "\n",
    "C3: (5,5) and (9,9)\n",
    "\n",
    "What would the cluster centroids be if you were to run a second iteration? What would this clustering's SSE be?\n"
   ]
  },
  {
   "cell_type": "markdown",
   "id": "edeb0773",
   "metadata": {},
   "source": [
    "It is not possible to determine the cluster centroids for the second iteration without knowing how the data points were assigned to clusters in the first iteration. However, we can calculate the SSE for the first iteration using the cluster centroids given:\n",
    "\n",
    "SSE = Σ distance^2 from each point to its assigned cluster centroid\n",
    "\n",
    "For cluster C1, the centroid is (4,4):\n",
    "\n",
    "distance^2 from (2,2) to (4,4) = (2-4)^2 + (2-4)^2 = 8\n",
    "distance^2 from (4,4) to (4,4) = (0)^2 + (0)^2 = 0\n",
    "distance^2 from (6,6) to (4,4) = (6-4)^2 + (6-4)^2 = 8\n",
    "SSE for C1 = 8 + 0 + 8 = 16\n",
    "\n",
    "For cluster C2, the centroid is (0,4):\n",
    "\n",
    "distance^2 from (0,4) to (0,4) = (0)^2 + (0)^2 = 0\n",
    "distance^2 from (4,0) to (0,4) = (4-0)^2 + (0-4)^2 = 32\n",
    "distance^2 from (0,4) to (0,4) = (0)^2 + (0)^2 = 0\n",
    "distance^2 from (0,4) to (0,4) = (0)^2 + (0)^2 = 0\n",
    "distance^2 from (0,4) to (0,4) = (0)^2 + (0)^2 = 0\n",
    "distance^2 from (0,4) to (0,4) = (0)^2 + (0)^2 = 0\n",
    "distance^2 from (0,4) to (0,4) = (0)^2 + (0)^2 = 0\n",
    "distance^2 from (0,4) to (0,4) = (0)^2 + (0)^2 = 0\n",
    "distance^2 from (0,4) to (0,4) = (0)^2 + (0)^2 = 0\n",
    "SSE for C2 = 0 + 32 + 0 + 0 + 0 + 0 + 0 + 0 + 0 = 32\n",
    "\n",
    "For cluster C3, the centroid is (4.5, 5.5):\n",
    "\n",
    "distance^2 from (5,5) to (4.5,5.5) = (5-4.5)^2 + (5-5.5)^2 = 0.5^2 + 0.5^2 = 0.5\n",
    "distance^2 from (9,9) to (4.5,5.5) = (9-4.5)^2 + (9-5.5)^2 = 4.5^2 + 3.5^2 = 34.5\n",
    "SSE for C3 = 0.5 + 34.5 = 35\n",
    "\n",
    "Total SSE for the first iteration = SSE for C1 + SSE for C2 + SSE for C3 = 16 + 32 + 35 = 83."
   ]
  },
  {
   "cell_type": "markdown",
   "id": "09898288",
   "metadata": {},
   "source": [
    "### 10. In a software project, the team is attempting to determine if software flaws discovered during testing are identical. Based on the text analytics of the defect details, they decided to build 5 clusters of related defects. Any new defect formed after the 5 clusters of defects have been identified must be listed as one of the forms identified by clustering. A simple diagram can be used to explain this process. Assume you have 20 defect data points that are clustered into 5 clusters and you used the k-means algorithm.\n"
   ]
  },
  {
   "cell_type": "markdown",
   "id": "e30fb45e",
   "metadata": {},
   "source": [
    "1. Start with 20 defect data points:\n",
    "    \n",
    "D1, D2, D3, D4, D5, D6, D7, D8, D9, D10,\n",
    "\n",
    "D11, D12, D13, D14, D15, D16, D17, D18, D19, D20\n",
    "\n",
    "\n",
    "2. Run the k-means algorithm to cluster the defects into 5 clusters:\n",
    "\n",
    "Cluster 1: D1, D2, D3, D4, D5\n",
    "\n",
    "Cluster 2: D6, D7, D8, D9, D10\n",
    "\n",
    "Cluster 3: D11, D12, D13, D14\n",
    "\n",
    "Cluster 4: D15, D16, D17\n",
    "\n",
    "Cluster 5: D18, D19, D20\n",
    "\n",
    "3. Any new defect formed after the clustering process must be listed as one of the forms identified by clustering. For example, if a new defect D21 is discovered and it is similar to Cluster 1, it should be added to Cluster 1.\n",
    "\n",
    "4. The process can be repeated periodically as new defects are discovered and added to the appropriate cluster.\n"
   ]
  },
  {
   "cell_type": "code",
   "execution_count": null,
   "id": "f8b429c7",
   "metadata": {},
   "outputs": [],
   "source": []
  }
 ],
 "metadata": {
  "kernelspec": {
   "display_name": "Python 3 (ipykernel)",
   "language": "python",
   "name": "python3"
  },
  "language_info": {
   "codemirror_mode": {
    "name": "ipython",
    "version": 3
   },
   "file_extension": ".py",
   "mimetype": "text/x-python",
   "name": "python",
   "nbconvert_exporter": "python",
   "pygments_lexer": "ipython3",
   "version": "3.9.13"
  }
 },
 "nbformat": 4,
 "nbformat_minor": 5
}
