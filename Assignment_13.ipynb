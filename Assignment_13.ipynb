{
 "cells": [
  {
   "cell_type": "markdown",
   "id": "5b154a4a",
   "metadata": {},
   "source": [
    "### 1. Provide an example of the concepts of Prior, Posterior, and Likelihood."
   ]
  },
  {
   "cell_type": "markdown",
   "id": "342340dd",
   "metadata": {},
   "source": [
    "Let's say you're a doctor trying to diagnose a patient with a certain disease. You have some prior information about the prevalence of this disease in the general population - let's say it's 1 in 1000 people.\n",
    "\n",
    "You then examine the patient and note down their symptoms, which gives you some evidence. Based on this evidence, you can calculate the likelihood of the patient having the disease - let's say it's 0.8.\n",
    "\n",
    "Using Bayes' theorem, you can then calculate the posterior probability of the patient having the disease given the evidence you've observed, as well as your prior knowledge. Specifically, the posterior probability is proportional to the product of the prior probability and the likelihood:\n",
    "\n",
    "posterior probability ∝ prior probability x likelihood\n",
    "\n",
    "So, in this example, the posterior probability of the patient having the disease would be:\n",
    "\n",
    "posterior probability ∝ 0.001 x 0.8 = 0.0008\n",
    "\n",
    "This means that the probability of the patient having the disease, given the evidence and your prior knowledge, is very low - only 0.08%."
   ]
  },
  {
   "cell_type": "markdown",
   "id": "0056bbe5",
   "metadata": {},
   "source": [
    "### 2. What role does Bayes' theorem play in the concept learning principle?"
   ]
  },
  {
   "cell_type": "markdown",
   "id": "d96aaf34",
   "metadata": {},
   "source": [
    "Bayes' theorem plays an important role in the concept learning principle by providing a way to update our beliefs or hypotheses about a concept as we receive new evidence or information. In other words, it allows us to make inferences about the probability of a hypothesis given the data or evidence we observe.\n",
    "\n",
    "The concept learning principle is based on the idea that humans and animals learn new concepts by forming hypotheses or mental representations based on observed examples or data. Bayes' theorem allows us to update our beliefs about these hypotheses as we observe new examples or data.\n",
    "\n",
    "Specifically, Bayes' theorem provides a way to calculate the probability of a hypothesis (or concept) given some observed data or evidence. This probability is known as the posterior probability and is proportional to the product of the prior probability (our initial belief about the hypothesis) and the likelihood (the probability of observing the data given the hypothesis). By updating our beliefs in this way, we can gradually refine our understanding of the concept we are trying to learn.\n",
    "\n",
    "Overall, Bayes' theorem is a powerful tool for concept learning because it allows us to incorporate new evidence or data into our existing beliefs, enabling us to revise and refine our understanding of a concept over time."
   ]
  },
  {
   "cell_type": "markdown",
   "id": "4dbc0577",
   "metadata": {},
   "source": [
    "### 3. Offer an example of how the Nave Bayes classifier is used in real life."
   ]
  },
  {
   "cell_type": "markdown",
   "id": "ce03e67f",
   "metadata": {},
   "source": [
    "One example of how the Naive Bayes classifier is used in real life is in email spam filtering. Email providers such as Gmail and Yahoo use Naive Bayes classifiers to filter out spam emails from a user's inbox.\n",
    "\n",
    "The Naive Bayes classifier works by learning from examples of emails that have been labeled as either spam or not spam (ham). It then uses Bayes' theorem to calculate the probability of a new email being spam or ham based on the words or phrases used in the email.\n",
    "\n",
    "For example, if the word \"Viagra\" appears frequently in emails that have been labeled as spam, the Naive Bayes classifier will learn that this word is strongly associated with spam emails. If a new email contains the word \"Viagra\", the classifier will assign a higher probability that it is spam.\n",
    "\n",
    "The Naive Bayes classifier can also take into account other features of an email, such as the sender's email address, the email's subject line, and the presence of attachments or links.\n",
    "\n",
    "Overall, the Naive Bayes classifier is a popular and effective technique for spam filtering because it can quickly and accurately classify emails as spam or ham with a relatively low computational cost. It is also easy to implement and can adapt to new types of spam as they emerge."
   ]
  },
  {
   "cell_type": "markdown",
   "id": "32b1b0f9",
   "metadata": {},
   "source": [
    "### 4. Can the Nave Bayes classifier be used on continuous numeric data? If so, how can you go about doing it?"
   ]
  },
  {
   "cell_type": "markdown",
   "id": "b74be55e",
   "metadata": {},
   "source": [
    "Yes, the Naive Bayes classifier can be used on continuous numeric data. However, it requires some additional steps to handle the continuous data.\n",
    "\n",
    "One approach is to assume that the continuous features are normally distributed within each class (i.e., spam or ham in the email example). Then, we can estimate the mean and variance of each feature for each class using the training data. This information can then be used to calculate the likelihood of a new data point (i.e., email) belonging to each class.\n",
    "\n",
    "To make predictions using the Naive Bayes classifier with continuous data, we first calculate the prior probabilities of each class based on the frequency of each class in the training data. Then, for each continuous feature, we calculate the likelihood of the feature taking a certain value given each class's mean and variance. These likelihoods are multiplied together to get the joint likelihood of all the features given each class. Finally, the posterior probability of each class is calculated by multiplying the prior probability by the joint likelihood of the features given that class, and then normalizing to get probabilities that sum to one.\n",
    "\n",
    "To handle continuous data with the Naive Bayes classifier, we need to make the assumption that the features are normally distributed within each class. This assumption may not hold true for all types of data, so it is important to check the data's distribution before using this approach. Additionally, if the data has high dimensionality or if the features are highly correlated, the performance of the Naive Bayes classifier may degrade. In such cases, other classifiers such as decision trees or random forests may be more appropriate."
   ]
  },
  {
   "cell_type": "markdown",
   "id": "a5130b01",
   "metadata": {},
   "source": [
    "### 5. What are Bayesian Belief Networks, and how do they work? What are their applications? Are they capable of resolving a wide range of issues?"
   ]
  },
  {
   "cell_type": "markdown",
   "id": "6817d232",
   "metadata": {},
   "source": [
    "Bayesian Belief Networks (BBNs) are a type of probabilistic graphical model that represent relationships among variables in a domain using a directed acyclic graph (DAG). BBNs combine probability theory and graph theory to represent and reason about uncertainty and causality in a domain.\n",
    "\n",
    "In a BBN, nodes represent variables of interest, and directed edges represent causal relationships between variables. Each node has a conditional probability table (CPT) that specifies the probability of the node given its parent nodes in the graph. The joint probability distribution of all variables in the network can be computed using the chain rule of probability.\n",
    "\n",
    "To perform inference in a BBN, we can use the network to compute posterior probabilities of variables of interest given observed evidence or data. This is done using Bayes' theorem, which requires computing the prior probabilities of variables and the likelihood of the observed evidence given the variables.\n",
    "\n",
    "BBNs have applications in a wide range of domains, including healthcare, finance, and environmental science. In healthcare, BBNs can be used to diagnose diseases, predict patient outcomes, and personalize treatments. In finance, BBNs can be used for fraud detection, risk assessment, and portfolio optimization. In environmental science, BBNs can be used to model ecological systems, predict the effects of climate change, and identify optimal conservation strategies.\n",
    "\n",
    "BBNs are capable of resolving a wide range of issues because they can model complex dependencies among variables and handle uncertainty in a principled way. However, building a BBN can be time-consuming and requires expert knowledge in the domain. In addition, if the network is not well-specified or if the CPTs are poorly estimated, the results of the inference may be inaccurate. Nonetheless, BBNs have proven to be a valuable tool in many real-world applications, and their popularity continues to grow as the amount of available data increases."
   ]
  },
  {
   "cell_type": "markdown",
   "id": "85df3d23",
   "metadata": {},
   "source": [
    "### 6. Passengers are checked in an airport screening system to see if there is an intruder. Let I be the random variable that indicates whether someone is an intruder I = 1) or not I = 0), and A be the variable that indicates alarm I = 0). If an intruder is detected with probability P(A = 1|I = 1) = 0.98 and a non-intruder is detected with probability P(A = 1|I = 0) = 0.001, an alarm will be triggered, implying the error factor. The likelihood of an intruder in the passenger population is P(I = 1) = 0.00001. What are the chances that an alarm would be triggered when an individual is actually an intruder?"
   ]
  },
  {
   "cell_type": "markdown",
   "id": "4afbf7b5",
   "metadata": {},
   "source": [
    "We want to calculate the probability of an alarm being triggered given that an individual is actually an intruder. This is represented by P(I = 1|A = 1), which can be calculated using Bayes' theorem:\n",
    "\n",
    "P(I = 1|A = 1) = P(A = 1|I = 1) * P(I = 1) / P(A = 1)\n",
    "\n",
    "We can calculate the denominator using the law of total probability:\n",
    "\n",
    "P(A = 1) = P(A = 1|I = 1) * P(I = 1) + P(A = 1|I = 0) * P(I = 0)\n",
    "\n",
    "Substituting the given probabilities, we get:\n",
    "\n",
    "P(A = 1) = 0.98 * 0.00001 + 0.001 * (1 - 0.00001) = 0.0010098\n",
    "\n",
    "Now we can substitute the values into the Bayes' theorem formula:\n",
    "\n",
    "P(I = 1|A = 1) = 0.98 * 0.00001 / 0.0010098 ≈ 0.0097\n",
    "\n",
    "Therefore, the probability of an alarm being triggered when an individual is actually an intruder is approximately 0.0097, or about 0.97%. This means that the screening system has a high accuracy in detecting intruders, with a low chance of false alarms."
   ]
  },
  {
   "cell_type": "markdown",
   "id": "652860e3",
   "metadata": {},
   "source": [
    "### 7. An antibiotic resistance test (random variable T) has 1% false positives (i.e., 1% of those who are not immune to an antibiotic display a positive result in the test) and 5% false negatives (i.e., 1% of those who are not resistant to an antibiotic show a positive result in the test) (i.e. 5 percent of those actually resistant to an antibiotic test negative). Assume that 2% of those who were screened were antibiotic-resistant. Calculate the likelihood that a person who tests positive is actually immune (random variable D)."
   ]
  },
  {
   "cell_type": "markdown",
   "id": "ab75fac5",
   "metadata": {},
   "source": [
    "We want to calculate the probability of a person being immune given that they test positive. This is represented by P(D = 1|T = 1), which can be calculated using Bayes' theorem:\n",
    "\n",
    "P(D = 1|T = 1) = P(T = 1|D = 1) * P(D = 1) / P(T = 1)\n",
    "\n",
    "We can calculate the denominator using the law of total probability:\n",
    "\n",
    "P(T = 1) = P(T = 1|D = 1) * P(D = 1) + P(T = 1|D = 0) * P(D = 0)\n",
    "\n",
    "Substituting the given probabilities, we get:\n",
    "\n",
    "P(T = 1) = (1 - 0.05) * 0.02 + 0.01 * (1 - 0.02) ≈ 0.0293\n",
    "\n",
    "Now we can substitute the values into the Bayes' theorem formula:\n",
    "\n",
    "P(D = 1|T = 1) = (1 - 0.05) * 0.02 / 0.0293 ≈ 0.0136\n",
    "\n",
    "Therefore, the likelihood that a person who tests positive is actually immune is approximately 0.0136, or about 1.36%. This means that even if a person tests positive for antibiotic resistance, there is a relatively low chance that they are actually immune."
   ]
  },
  {
   "cell_type": "markdown",
   "id": "34a635dc",
   "metadata": {},
   "source": [
    "### 8. In order to prepare for the test, a student knows that there will be one question in the exam that is either form A, B, or C. The chances of getting an A, B, or C on the exam are 30 percent, 20%, and 50 percent, respectively. During the planning, the student solved 9 of 10 type A problems, 2 of 10 type B problems, and 6 of 10 type C problems.\n",
    "\n",
    "1. What is the likelihood that the student can solve the exam problem?\n",
    "\n",
    "2. Given the student's solution, what is the likelihood that the problem was of form A?"
   ]
  },
  {
   "cell_type": "markdown",
   "id": "3e5ff760",
   "metadata": {},
   "source": [
    "We can approach this problem using Bayes' theorem. Let P(A), P(B), and P(C) be the probabilities of the exam question being of form A, B, and C, respectively. Then we want to calculate:\n",
    "\n",
    "The probability of the student being able to solve the exam problem, given the information that they have solved 9 of 10 type A problems, 2 of 10 type B problems, and 6 of 10 type C problems.\n",
    "\n",
    "The probability that the exam problem was of form A, given the information that the student was able to solve it.\n",
    "\n",
    "First, we can calculate the prior probabilities of the exam question being of form A, B, and C:\n",
    "\n",
    "P(A) = 0.3\n",
    "P(B) = 0.2\n",
    "P(C) = 0.5\n",
    "\n",
    "Then we can calculate the likelihoods of the student being able to solve a problem of each type, based on their past performance:\n",
    "\n",
    "P(solve|A) = 9/10\n",
    "P(solve|B) = 2/10\n",
    "P(solve|C) = 6/10\n",
    "\n",
    "Using Bayes' theorem, we can calculate the probability of the student being able to solve the exam problem:\n",
    "\n",
    "P(solve) = P(solve|A) * P(A) + P(solve|B) * P(B) + P(solve|C) * P(C)\n",
    "= (9/10) * 0.3 + (2/10) * 0.2 + (6/10) * 0.5\n",
    "= 0.65\n",
    "\n",
    "Therefore, the probability of the student being able to solve the exam problem is 0.65, or 65%.\n",
    "\n",
    "Next, we can calculate the probability that the exam problem was of form A, given the information that the student was able to solve it. This is represented by P(A|solve), which can be calculated using Bayes' theorem:\n",
    "\n",
    "P(A|solve) = P(solve|A) * P(A) / P(solve)\n",
    "\n",
    "Substituting the values we calculated earlier, we get:\n",
    "\n",
    "P(A|solve) = (9/10) * 0.3 / 0.65\n",
    "= 0.4154\n",
    "\n",
    "Therefore, the probability that the exam problem was of form A, given the information that the student was able to solve it, is approximately 0.4154, or about 41.54%."
   ]
  },
  {
   "cell_type": "markdown",
   "id": "0b0a6944",
   "metadata": {},
   "source": [
    "### 9. A bank installs a CCTV system to track and photograph incoming customers. Despite the constant influx of customers, we divide the timeline into 5 minute bins. There may be a customer coming into the bank with a 5% chance in each 5-minute time period, or there may be no customer (again, for simplicity, we assume that either there is 1 customer or none, not the case of multiple customers). If there is a client, the CCTV will detect them with a 99 percent probability. If there is no customer, the camera can take a false photograph with a 10% chance of detecting movement from other objects.\n",
    "\n",
    "1. How many customers come into the bank on a daily basis (10 hours)?\n",
    "\n",
    "2. On a daily basis, how many fake photographs (photographs taken when there is no customer) and how many missed photographs (photographs taken when there is a customer) are there?\n",
    "\n",
    "3. Explain likelihood that there is a customer if there is a photograph?\n",
    "\n"
   ]
  },
  {
   "cell_type": "markdown",
   "id": "9a254be8",
   "metadata": {},
   "source": [
    "We can begin by calculating the expected number of customers that come into the bank in 10 hours, which is 30 five-minute intervals per hour and 300 intervals over 10 hours. In each interval, there is a 5% chance of a customer coming in, so the expected number of customers is:\n",
    "\n",
    "300 intervals x 0.05 = 15 customers\n",
    "\n",
    "Next, we can calculate the expected number of fake photographs and missed photographs per day. For fake photographs, there are 30 intervals per hour, or 300 intervals over 10 hours. In each interval, there is a 10% chance of a false photograph, so the expected number of fake photographs is:\n",
    "\n",
    "300 intervals x 0.1 = 30 fake photographs\n",
    "\n",
    "For missed photographs, there are 15 customers expected to come in over 10 hours. Each customer has a 1% chance of being missed, so the expected number of missed photographs is:\n",
    "\n",
    "15 customers x 0.01 = 0.15 missed photographs (rounded to nearest hundredth)\n",
    "\n",
    "Finally, we can calculate the likelihood of a customer being present given that a photograph was taken. This is the conditional probability of there being a customer given that a photograph was taken, which can be calculated using Bayes' theorem:\n",
    "\n",
    "P(Customer | Photograph) = P(Photograph | Customer) * P(Customer) / P(Photograph)\n",
    "\n",
    "where P(Photograph | Customer) is the probability of taking a photograph given that there is a customer (which is 0.99), P(Customer) is the probability of a customer being present (which is 0.05), and P(Photograph) is the total probability of taking a photograph, which can be calculated as:\n",
    "\n",
    "P(Photograph) = P(Photograph | Customer) * P(Customer) + P(Photograph | No Customer) * P(No Customer)\n",
    "= 0.99 * 0.05 + 0.1 * 0.95\n",
    "= 0.1045\n",
    "\n",
    "Substituting the values into the formula, we get:\n",
    "\n",
    "P(Customer | Photograph) = 0.99 * 0.05 / 0.1045\n",
    "= 0.473\n",
    "\n",
    "Therefore, the likelihood of there being a customer given that a photograph was taken is approximately 0.473 or 47.3%."
   ]
  },
  {
   "cell_type": "markdown",
   "id": "278f5d26",
   "metadata": {},
   "source": [
    "### 10. Create the conditional probability table associated with the node Won Toss in the Bayesian Belief network to represent the conditional independence assumptions of the Nave Bayes classifier for the match winning prediction problem in Section 6.4.4."
   ]
  },
  {
   "cell_type": "code",
   "execution_count": null,
   "id": "386fb1bd",
   "metadata": {},
   "outputs": [],
   "source": []
  }
 ],
 "metadata": {
  "kernelspec": {
   "display_name": "Python 3 (ipykernel)",
   "language": "python",
   "name": "python3"
  },
  "language_info": {
   "codemirror_mode": {
    "name": "ipython",
    "version": 3
   },
   "file_extension": ".py",
   "mimetype": "text/x-python",
   "name": "python",
   "nbconvert_exporter": "python",
   "pygments_lexer": "ipython3",
   "version": "3.9.13"
  }
 },
 "nbformat": 4,
 "nbformat_minor": 5
}
