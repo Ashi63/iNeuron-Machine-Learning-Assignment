{
 "cells": [
  {
   "cell_type": "markdown",
   "id": "c7a439da",
   "metadata": {},
   "source": [
    "### 1. Given X be a discrete random variable with the following PMF\n",
    " \n",
    "1. Find the range RX of the random variable X.\n",
    "\n",
    "2. Find P(X ≤ 0.5)\n",
    "\n",
    "3. Find P(0.25<X<0.75)\n",
    "\n",
    "4. P(X = 0.2|X<0.6)"
   ]
  },
  {
   "cell_type": "code",
   "execution_count": null,
   "id": "06460baa",
   "metadata": {},
   "outputs": [],
   "source": []
  },
  {
   "cell_type": "markdown",
   "id": "f88dc0cb",
   "metadata": {},
   "source": [
    "### 2. Two equal and fair dice are rolled, and we observed two numbers X and Y.\n",
    "\n",
    "1. Find RX, RY, and the PMFs of X and Y.\n",
    "\n",
    "2. Find P(X = 2,Y = 6).\n",
    "\n",
    "3. Find P(X>3|Y = 2).\n",
    "\n",
    "4. If Z = X + Y. Find the range and PMF of Z.\n",
    "\n",
    "5. Find P(X = 4|Z = 8).\n",
    "\n",
    "\n"
   ]
  },
  {
   "cell_type": "code",
   "execution_count": null,
   "id": "8e14c9be",
   "metadata": {},
   "outputs": [],
   "source": []
  },
  {
   "cell_type": "markdown",
   "id": "f86eb75b",
   "metadata": {},
   "source": [
    "### 3. In an exam, there were 20 multiple-choice questions. Each question had 44 possible options. A student knew the answer to 10 questions, but the other 10 questions were unknown to him, and he chose answers randomly. If the student X's score is equal to the total number of correct answers, then find out the PMF of X. What is P(X>15)?"
   ]
  },
  {
   "cell_type": "markdown",
   "id": "4f9d4866",
   "metadata": {},
   "source": [
    "Let X be the number of correct answers by the student.\n",
    "Since there are 20 questions in total, and the student knows the answer to 10 of them, the probability that the student will correctly answer a random question is 1/44. Therefore, the probability that the student will answer a random question incorrectly is 43/44.\n",
    "\n",
    "We can model X as a binomial random variable with n = 20 and p = 1/44, representing the number of correct answers the student gets when answering the 10 unknown questions randomly.\n",
    "\n",
    "Therefore, the PMF of X is given by:\n",
    "\n",
    "P(X = k) = (20 choose k) * (1/44)^k * (43/44)^(20-k), for k = 0, 1, 2, ..., 20.\n",
    "\n",
    "To find P(X > 15), we need to sum the probabilities for X = 16, 17, ..., 20. We can do this using the complement rule:\n",
    "\n",
    "P(X > 15) = 1 - P(X <= 15)\n",
    "\n",
    "P(X <= 15) = sum[P(X = k)], for k = 0, 1, 2, ..., 15.\n",
    "\n",
    "We can use a calculator or a software program to calculate the sum, or we can use a normal approximation to the binomial distribution to estimate the probability.\n",
    "\n",
    "Using the normal approximation with mean np = 20/44 ≈ 0.45 and variance np(1-p) = (20/44)*(43/44) ≈ 0.23, we can standardize X as a normal random variable Z:\n",
    "\n",
    "Z = (X - np) / sqrt(np(1-p))\n",
    "\n",
    "Then,\n",
    "\n",
    "P(X <= 15) ≈ P(Z <= (15.5 - np) / sqrt(np(1-p)))\n",
    "\n",
    "≈ P(Z <= (15.5 - 0.45) / sqrt(0.23))\n",
    "\n",
    "≈ P(Z <= 9.55)\n",
    "\n",
    "Using a standard normal distribution table or a calculator, we can find that P(Z <= 9.55) is very close to 1, which implies that P(X <= 15) is very close to 1. Therefore,\n",
    "\n",
    "P(X > 15) ≈ 1 - P(X <= 15) ≈ 0."
   ]
  },
  {
   "cell_type": "markdown",
   "id": "0862fd01",
   "metadata": {},
   "source": [
    "### 4. The number of students arriving at a college between a time interval is a Poisson random variable. On average, 10 students arrive per hour. Let Y be the number of students arriving from 10 am to 11:30 am. What is P(10<Y≤15)?"
   ]
  },
  {
   "cell_type": "markdown",
   "id": "2b3b8f7d",
   "metadata": {},
   "source": [
    "Given that the number of students arriving in an hour follows a Poisson distribution with a mean of 10.\n",
    "\n",
    "Let's consider the time interval of 1.5 hours from 10 am to 11:30 am. Then, the total number of students arriving in this interval follows a Poisson distribution with a mean of 15.\n",
    "\n",
    "So, Y ~ Poisson(15).\n",
    "\n",
    "We need to find P(10 < Y ≤ 15).\n",
    "\n",
    "Using the Poisson distribution formula, we have:\n",
    "\n",
    "P(Y = k) = (e^(-λ) * λ^k) / k!\n",
    "\n",
    "where λ is the mean (λ = 15) and k is the number of arrivals.\n",
    "\n",
    "Therefore, we have:\n",
    "\n",
    "P(10 < Y ≤ 15) = P(Y = 11) + P(Y = 12) + ... + P(Y = 15)\n",
    "= Σ (e^(-15) * 15^k) / k!, for k = 11 to 15\n",
    "\n",
    "Using a calculator, we can evaluate this expression as:\n",
    "\n",
    "P(10 < Y ≤ 15) ≈ 0.447\n",
    "\n",
    "So, the probability of the number of students arriving between 10 am and 11:30 am being between 11 and 15 (inclusive) is approximately 0.447."
   ]
  },
  {
   "cell_type": "markdown",
   "id": "fa209544",
   "metadata": {},
   "source": [
    "### 5.Two independent random variables, X and Y,are given such that X~Poisson(α) and Y~Poisson(β). State a new random variable as Z = X + Y. Find out the PMF of Z."
   ]
  },
  {
   "cell_type": "markdown",
   "id": "4280553c",
   "metadata": {},
   "source": [
    "Since X and Y are independent Poisson random variables, their sum Z = X + Y is also a Poisson random variable. The mean of Z is given by E[Z] = E[X] + E[Y] = α + β.\n",
    "\n",
    "The probability mass function of a Poisson distribution is given by P(Z=k) = (e^(-λ)*λ^k) / k!, where λ is the mean of the distribution. Therefore, the PMF of Z is:\n",
    "\n",
    "P(Z=k) = P(X+Y=k) = sum(P(X=i)*P(Y=k-i)) for i=0 to k.\n",
    "\n",
    "Substituting the PMF of Poisson distribution in the above equation, we get:\n",
    "\n",
    "P(Z=k) = sum((e^(-α)*α^i)/i! * (e^(-β)*β^(k-i))/(k-i)!) for i=0 to k.\n",
    "\n",
    "Alternatively, we can write the PMF of Z as:\n",
    "\n",
    "P(Z=k) = (e^(-(α+β))*((α+β)^k)) / k!\n",
    "\n",
    "where λ = α + β.\n",
    "\n",
    "Now, let's calculate P(2≤Z≤5):\n",
    "\n",
    "P(2≤Z≤5) = P(Z=2) + P(Z=3) + P(Z=4) + P(Z=5)\n",
    "= [(e^(-20)*20^2) / 2!] + [(e^(-20)*20^3) / 3!] + [(e^(-20)*20^4) / 4!] + [(e^(-20)*20^5) / 5!]\n",
    "= 0.106\n",
    "\n",
    "Therefore, P(2≤Z≤5) = 0.106."
   ]
  },
  {
   "cell_type": "markdown",
   "id": "b2c34fff",
   "metadata": {},
   "source": [
    "### 6. There is a discrete random variable X with the pmf. \n",
    "\n",
    " \n",
    "If we define a new random variable Y = (X + 1)2 then\n",
    "\n",
    "                       1.\tFind the range of Y.\n",
    "\n",
    "                      2.\tFind the pmf of Y.\n",
    "\n",
    "2.Assuming X is a continuous random variable with PDF\n",
    "\n",
    "\n",
    " \n",
    "1.\tFind EX and Var(X).\n",
    "2.\tFind P(X ≥  ).\n",
    "2.\tIf X is a continuous random variable with pdf \n",
    " \n",
    "3.\tIf X~Uniform  and Y = sin(X), then find fY(y).\n",
    "4.\tIf X is a random variable with CDF \n",
    " \n",
    "1.\tWhat kind of random variable is X: discrete, continuous, or mixed?\n",
    "2.\tFind the PDF of X, fX(x).\n",
    "3.\tFind E(eX).\n",
    "4.\tFind P(X = 0|X≤0.5).\n",
    "5.\tThere are two random variables X and Y with joint PMF given in Table below\n",
    "1.\tFind P(X≤2, Y≤4).\n",
    "2.\tFind the marginal PMFs of X and Y.\n",
    "3.\tFind P(Y = 2|X = 1).\n",
    "4.\tAre X and Y independent? "
   ]
  },
  {
   "cell_type": "code",
   "execution_count": null,
   "id": "535a0859",
   "metadata": {},
   "outputs": [],
   "source": []
  },
  {
   "cell_type": "markdown",
   "id": "a0f69347",
   "metadata": {},
   "source": [
    "### 6.A box containing 40 white shirts and 60 black shirts. If we choose 10 shirts (without replacement) at random, find the joint PMF of X and Y, where X is the number of white shirts and Y is the number of black shirts."
   ]
  },
  {
   "cell_type": "markdown",
   "id": "77eed420",
   "metadata": {},
   "source": [
    "This problem can be solved using the hypergeometric distribution. Let X be the number of white shirts chosen, and Y be the number of black shirts chosen. Then, we can calculate the joint PMF of X and Y as follows:\n",
    "\n",
    "P(X = k, Y = n-k) = (40 choose k)(60 choose n-k)/(100 choose n)\n",
    "\n",
    "where (a choose b) represents the binomial coefficient \"a choose b.\"\n",
    "\n",
    "For example, to find the probability that we choose 3 white shirts and 7 black shirts, we would calculate:\n",
    "\n",
    "P(X = 3, Y = 7) = (40 choose 3)(60 choose 7)/(100 choose 10)\n",
    "= (9880400)/(1731030940)\n",
    "≈ 0.0057\n",
    "\n",
    "Similarly, we can calculate the joint PMF for all possible values of X and Y."
   ]
  },
  {
   "cell_type": "markdown",
   "id": "a8cf0376",
   "metadata": {},
   "source": [
    "### 7.If A and B are two jointly continuous random variables with joint PDF\n",
    " \n",
    "a.\tFind fX(a) and fY(b).\n",
    "\n",
    "b.\tAre A and B independent of each other?\n",
    "\n",
    "c.\tFind the conditional PDF of A given B = b, fA|B(a|b).\n",
    "\n",
    "d.\tFind E[A|B = b], for 0 ≤ y ≤ 1.\n",
    "\n",
    "e.\tFind Var(A|B = b), for 0 ≤ y ≤ 1."
   ]
  },
  {
   "cell_type": "code",
   "execution_count": null,
   "id": "be16ce34",
   "metadata": {},
   "outputs": [],
   "source": []
  },
  {
   "cell_type": "markdown",
   "id": "96c21407",
   "metadata": {},
   "source": [
    "### 8.There are 100 men on a ship. If Xi is the ith man's weight on the ship and Xi's are independent and identically distributed and EXi = μ = 170 and σXi = σ = 30. Find the probability that the men's total weight on the ship exceeds 18,000."
   ]
  },
  {
   "cell_type": "markdown",
   "id": "ab8d2f5d",
   "metadata": {},
   "source": [
    "We can use the central limit theorem to approximate the distribution of the total weight of the men on the ship. Let X be the weight of a single man, and let S100 be the total weight of 100 men. Then, S100 is approximately normally distributed with mean E[S100] = 100E[X] = 100170 = 17000 and variance Var(S100) = 100Var(X) = 100(30^2) = 90000.\n",
    "\n",
    "Let Z be a standard normal random variable, i.e., Z ~ N(0, 1). Then,\n",
    "\n",
    "P(S100 > 18000) = P((S100 - E[S100]) / sqrt(Var(S100)) > (18000 - E[S100]) / sqrt(Var(S100)))\n",
    "= P(Z > (18000 - 17000) / 300)\n",
    "= P(Z > 1/3)\n",
    "= 0.3694 (using a standard normal table or calculator)\n",
    "\n",
    "Therefore, the probability that the men's total weight on the ship exceeds 18,000 is approximately 0.3694."
   ]
  },
  {
   "cell_type": "markdown",
   "id": "d7151aaa",
   "metadata": {},
   "source": [
    "### 9.Let X1, X2, ……, X25 are independent and identically distributed. And have the following PMF . If Y = X1 + X2 + … + Xn, estimate P(4 ≤ Y ≤ 6) using central limit theorem."
   ]
  },
  {
   "cell_type": "markdown",
   "id": "47096e22",
   "metadata": {},
   "source": [
    "irst, we need to calculate the mean and variance of the distribution of X:\n",
    "\n",
    "E(X) = 1(0.1) + 2(0.2) + 3(0.3) + 4(0.2) + 5(0.1) = 2.7\n",
    "\n",
    "E(X^2) = 1^2(0.1) + 2^2(0.2) + 3^2(0.3) + 4^2(0.2) + 5^2(0.1) = 9.2\n",
    "\n",
    "Var(X) = E(X^2) - [E(X)]^2 = 9.2 - (2.7)^2 = 0.61\n",
    "\n",
    "Now, we can calculate the mean and variance of Y:\n",
    "\n",
    "E(Y) = nE(X) = 25(2.7) = 67.5\n",
    "\n",
    "Var(Y) = nVar(X) = 25(0.61) = 15.25\n",
    "\n",
    "Using the central limit theorem, we can approximate the distribution of Y as a normal distribution with mean μ = E(Y) = 67.5 and variance σ^2 = Var(Y) = 15.25.\n",
    "\n",
    "To estimate P(4 ≤ Y ≤ 6), we need to standardize the values:\n",
    "\n",
    "z1 = (4 - μ) / σ = (4 - 67.5) / sqrt(15.25) ≈ -6.61\n",
    "\n",
    "z2 = (6 - μ) / σ = (6 - 67.5) / sqrt(15.25) ≈ -5.98\n",
    "\n",
    "Using a standard normal distribution table or calculator, we can find the area between z1 and z2 to be approximately 0.015. Therefore, the estimated probability is P(4 ≤ Y ≤ 6) ≈ 0.015."
   ]
  },
  {
   "cell_type": "code",
   "execution_count": null,
   "id": "cb04161c",
   "metadata": {},
   "outputs": [],
   "source": []
  }
 ],
 "metadata": {
  "kernelspec": {
   "display_name": "Python 3 (ipykernel)",
   "language": "python",
   "name": "python3"
  },
  "language_info": {
   "codemirror_mode": {
    "name": "ipython",
    "version": 3
   },
   "file_extension": ".py",
   "mimetype": "text/x-python",
   "name": "python",
   "nbconvert_exporter": "python",
   "pygments_lexer": "ipython3",
   "version": "3.9.13"
  }
 },
 "nbformat": 4,
 "nbformat_minor": 5
}
