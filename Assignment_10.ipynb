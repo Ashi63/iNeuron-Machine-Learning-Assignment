{
 "cells": [
  {
   "cell_type": "markdown",
   "id": "6cc13efb",
   "metadata": {},
   "source": [
    "### 1.Define the Bayesian interpretation of probability."
   ]
  },
  {
   "cell_type": "markdown",
   "id": "e5301791",
   "metadata": {},
   "source": [
    "The Bayesian interpretation of probability is a way of assigning probabilities to events based on prior knowledge or beliefs, and then updating those probabilities as new evidence or information becomes available.\n",
    "\n",
    "In this interpretation, probability is seen as a measure of subjective belief or uncertainty about an event. Bayes' theorem is used to calculate the probability of an event given the prior probability and the new evidence. Bayes' theorem states that the probability of an event A given some new evidence B can be calculated as the product of the prior probability of A and the conditional probability of B given A, divided by the probability of B:\n",
    "\n",
    "P(A|B) = P(A) * P(B|A) / P(B)\n",
    "\n",
    "where P(A|B) is the updated probability of A given the evidence B, P(A) is the prior probability of A, P(B|A) is the probability of B given A, and P(B) is the probability of B.\n",
    "\n",
    "The Bayesian interpretation of probability is widely used in fields such as machine learning, artificial intelligence, and statistics, where it is used to make predictions, classify data, and make decisions based on uncertain information."
   ]
  },
  {
   "cell_type": "markdown",
   "id": "f48ad59c",
   "metadata": {},
   "source": [
    "### 2.Define probability of a union of two events with equation."
   ]
  },
  {
   "cell_type": "markdown",
   "id": "b0ab0e5f",
   "metadata": {},
   "source": [
    "The probability of the union of two events A and B is the probability that either event A or event B or both occur. It can be represented mathematically as:\n",
    "\n",
    "P(A ∪ B) = P(A) + P(B) - P(A ∩ B)\n",
    "\n",
    "where P(A) is the probability of event A, P(B) is the probability of event B, and P(A ∩ B) is the probability of the intersection of events A and B (i.e., the probability that both events A and B occur).\n",
    "\n",
    "The formula for the probability of the union of two events is based on the principle of inclusion-exclusion, which states that to find the total number of elements in the union of two sets, we need to add the number of elements in each set and subtract the number of elements that are in both sets (to avoid double-counting).\n",
    "\n",
    "This formula can be extended to the union of more than two events by repeatedly applying the principle of inclusion-exclusion."
   ]
  },
  {
   "cell_type": "markdown",
   "id": "856d16fa",
   "metadata": {},
   "source": [
    "### 3.What is joint probability? What is its formula?"
   ]
  },
  {
   "cell_type": "markdown",
   "id": "e4e74220",
   "metadata": {},
   "source": [
    "Joint probability is a statistical measure that calculates the likelihood of two or more events occurring simultaneously. It is the probability of the intersection of two or more events and is denoted by P(A and B), where A and B are two events.\n",
    "\n",
    "The formula for the joint probability of two events A and B is given by:\n",
    "\n",
    "P(A and B) = P(A) * P(B|A)\n",
    "\n",
    "where P(A) is the probability of event A, and P(B|A) is the conditional probability of event B given that event A has occurred. This formula is derived from the product rule of probability, which states that the probability of two events occurring together is the product of the probability of one event and the conditional probability of the other event given that the first event has occurred.\n",
    "\n",
    "For example, consider a bag of marbles containing 4 red marbles and 6 blue marbles. The probability of selecting a red marble from the bag is 4/10 or 0.4. The probability of selecting a blue marble from the bag given that a red marble has already been selected is 6/9, since there are 9 marbles remaining in the bag, of which 6 are blue. The joint probability of selecting a red marble and then a blue marble from the bag is therefore:\n",
    "\n",
    "P(Red and Blue) = P(Red) * P(Blue|Red) = 0.4 * (6/9) = 0.267\n",
    "\n",
    "This means that the probability of selecting a red marble followed by a blue marble is 0.267, or about 26.7%."
   ]
  },
  {
   "cell_type": "markdown",
   "id": "62e899f8",
   "metadata": {},
   "source": [
    "### 4.What is chain rule of probability?"
   ]
  },
  {
   "cell_type": "markdown",
   "id": "f72dfe48",
   "metadata": {},
   "source": [
    "The chain rule of probability is a formula for computing the joint probability of a sequence of events by multiplying the conditional probabilities of each event given the previous events in the sequence.\n",
    "\n",
    "Let A1, A2, A3, ..., An be a sequence of n events. Then, the joint probability of these events can be computed using the chain rule as:\n",
    "\n",
    "P(A1, A2, A3, ..., An) = P(A1) * P(A2|A1) * P(A3|A1, A2) * ... * P(An|A1, A2, ..., An-1)\n",
    "\n",
    "In other words, the probability of the entire sequence of events is equal to the product of the probabilities of each event given the previous events in the sequence. The chain rule is a fundamental principle of probability theory and is used in many areas of statistics and machine learning.\n",
    "\n",
    "For example, consider a medical diagnosis problem where a patient's symptoms and test results are used to predict the likelihood of a disease. Let A1, A2, and A3 be events representing the presence of three symptoms, and let B be the event representing the presence of the disease. The joint probability of these events can be computed using the chain rule as:\n",
    "\n",
    "P(A1, A2, A3, B) = P(A1) * P(A2|A1) * P(A3|A1, A2) * P(B|A1, A2, A3)\n",
    "\n",
    "where P(A1) is the prior probability of the first symptom, P(A2|A1) is the conditional probability of the second symptom given the first symptom, P(A3|A1, A2) is the conditional probability of the third symptom given the first two symptoms, and P(B|A1, A2, A3) is the conditional probability of the disease given all three symptoms. This joint probability can then be used to make predictions about the patient's diagnosis based on their symptoms and test results."
   ]
  },
  {
   "cell_type": "markdown",
   "id": "b46082d2",
   "metadata": {},
   "source": [
    "### 5.What is conditional probability means? What is the formula of it?"
   ]
  },
  {
   "cell_type": "markdown",
   "id": "b612888b",
   "metadata": {},
   "source": [
    "Conditional probability is the probability of an event A given that another event B has occurred. It is denoted by P(A|B) and is read as \"the probability of A given B\".\n",
    "\n",
    "The formula for conditional probability is:\n",
    "\n",
    "P(A|B) = P(A and B) / P(B)\n",
    "\n",
    "where P(A and B) is the joint probability of events A and B occurring together, and P(B) is the probability of event B occurring.\n",
    "\n",
    "Intuitively, the conditional probability of A given B represents the updated probability of A occurring, given the information that event B has already occurred. It reflects the effect of B on the likelihood of A, and can be different from the unconditional probability of A (i.e., the probability of A without any information about B).\n",
    "\n",
    "For example, consider a deck of cards with 52 cards, of which 26 are red and 26 are black. The probability of drawing a red card is 26/52 = 0.5. Now, suppose that one card has been drawn at random and shown to be red. The conditional probability of drawing a second red card from the remaining deck is:\n",
    "\n",
    "P(Red on 2nd draw|Red on 1st draw) = P(Red on 1st draw and Red on 2nd draw) / P(Red on 1st draw)\n",
    "\n",
    "The probability of drawing a red card on the second draw, given that a red card was drawn on the first draw, depends on how many red and black cards are left in the deck. If the first card was not replaced, there are now 25 red and 26 black cards remaining, so the conditional probability is:\n",
    "\n",
    "P(Red on 2nd draw|Red on 1st draw) = (25/51) / (26/52) = 0.5\n",
    "\n",
    "This means that the probability of drawing a second red card is the same as the unconditional probability of drawing a red card, since the first red card has already been removed from the deck."
   ]
  },
  {
   "cell_type": "markdown",
   "id": "e43d3edb",
   "metadata": {},
   "source": [
    "### 6.What are continuous random variables?"
   ]
  },
  {
   "cell_type": "markdown",
   "id": "d0a82050",
   "metadata": {},
   "source": [
    "Continuous random variables are variables that can take on any value within a certain range or interval, often represented by a real number line. They are characterized by a probability density function (PDF) that describes the distribution of the variable's values over the range of possible outcomes.\n",
    "\n",
    "Unlike discrete random variables, which take on a finite or countable number of distinct values, continuous random variables can take on an infinite number of possible values within a given interval. Some examples of continuous random variables include:\n",
    "\n",
    "The height or weight of a person, which can take on any value within a certain range\n",
    "The time it takes for a customer to complete a purchase, which can take on any positive value\n",
    "The temperature of a room, which can take on any value within a certain range\n",
    "The probability of a continuous random variable taking on a specific value is zero, since there are an infinite number of possible values. Instead, the probability of the variable falling within a certain range or interval is given by the area under the PDF curve over that interval.\n",
    "\n",
    "The cumulative distribution function (CDF) of a continuous random variable gives the probability that the variable takes on a value less than or equal to a certain value. The derivative of the CDF with respect to the variable is the PDF."
   ]
  },
  {
   "cell_type": "markdown",
   "id": "85fa74b2",
   "metadata": {},
   "source": [
    "### 7.What are Bernoulli distributions? What is the formula of it?"
   ]
  },
  {
   "cell_type": "markdown",
   "id": "1e51144c",
   "metadata": {},
   "source": [
    "The Bernoulli distribution is a discrete probability distribution that describes a random variable that can take on only two possible values: 1 (success) or 0 (failure). It is named after Swiss mathematician Jacob Bernoulli, who used it to model the outcomes of coin flips.\n",
    "\n",
    "The formula for the Bernoulli distribution is:\n",
    "\n",
    "P(X = x) = p^x * (1-p)^(1-x)\n",
    "\n",
    "where:\n",
    "\n",
    "X is the random variable that takes on values of 0 or 1\n",
    "p is the probability of success (i.e., the probability that X = 1)\n",
    "In other words, the Bernoulli distribution gives the probability of observing a success or failure in a single trial, where the probability of success is constant across trials.\n",
    "\n",
    "Some examples of situations that can be modeled using the Bernoulli distribution include:\n",
    "\n",
    "Flipping a coin, where a \"head\" is a success and a \"tail\" is a failure\n",
    "Rolling a die and observing whether it lands on a certain face (e.g., a 6), where that face is a success and all other faces are failures\n",
    "Conducting a survey and asking a yes/no question (e.g., \"Do you own a pet?\"), where a \"yes\" response is a success and a \"no\" response is a failure."
   ]
  },
  {
   "cell_type": "markdown",
   "id": "88ee6056",
   "metadata": {},
   "source": [
    "### 8.What is binomial distribution? What is the formula?"
   ]
  },
  {
   "cell_type": "markdown",
   "id": "8df6a4e8",
   "metadata": {},
   "source": [
    "The binomial distribution is a discrete probability distribution that describes the number of successes in a fixed number of independent trials, where each trial has only two possible outcomes (success or failure) and the probability of success is constant across trials. It is named after the Swiss mathematician Jacob Bernoulli, who developed it along with the Bernoulli distribution.\n",
    "\n",
    "The formula for the binomial distribution is:\n",
    "\n",
    "P(X = k) = (n choose k) * p^k * (1-p)^(n-k)\n",
    "\n",
    "where:\n",
    "\n",
    "X is the random variable that represents the number of successes in n trials\n",
    "k is a specific value of X (i.e., the number of successes)\n",
    "n is the total number of trials\n",
    "p is the probability of success in each trial\n",
    "(n choose k) is the binomial coefficient, which gives the number of ways to choose k successes from n trials (i.e., the number of combinations of n things taken k at a time)\n",
    "In other words, the binomial distribution gives the probability of observing k successes in n trials, where the probability of success is constant across trials.\n",
    "\n",
    "Some examples of situations that can be modeled using the binomial distribution include:\n",
    "\n",
    "Flipping a coin n times and counting the number of times it lands on heads (or tails)\n",
    "Rolling a die n times and counting the number of times it lands on a certain face (e.g., a 6)\n",
    "Conducting a series of identical experiments (e.g., testing the effectiveness of a new drug) and counting the number of times a desired outcome is observed\n",
    "Note that the binomial distribution is a special case of the more general negative binomial distribution, which allows for the possibility of an unknown number of failures before a fixed number of successes is reached."
   ]
  },
  {
   "cell_type": "markdown",
   "id": "0aec6652",
   "metadata": {},
   "source": [
    "### 9.What is Poisson distribution? What is the formula?"
   ]
  },
  {
   "cell_type": "markdown",
   "id": "c425406a",
   "metadata": {},
   "source": [
    "The Poisson distribution is a discrete probability distribution that describes the probability of a given number of events occurring in a fixed interval of time or space, given that the events occur independently of each other and at a constant average rate.\n",
    "\n",
    "The formula for the Poisson distribution is:\n",
    "\n",
    "P(X = k) = (e^(-λ) * λ^k) / k!\n",
    "\n",
    "where:\n",
    "\n",
    "X is the random variable that represents the number of events that occur in a fixed interval of time or space\n",
    "k is a specific value of X (i.e., the number of events)\n",
    "λ is the expected number of events that occur in the interval\n",
    "e is the mathematical constant e (approximately equal to 2.71828...)\n",
    "k! represents the factorial of k (i.e., k multiplied by all positive integers less than k)\n",
    "In other words, the Poisson distribution gives the probability of observing k events in a fixed interval, given that the events occur independently and at a constant average rate.\n",
    "\n",
    "Some examples of situations that can be modeled using the Poisson distribution include:\n",
    "\n",
    "The number of customers who enter a store during a certain time period\n",
    "The number of cars that pass through a toll booth in a certain time period\n",
    "The number of accidents that occur at a particular intersection in a given month\n",
    "Note that the Poisson distribution is often used as an approximation for the binomial distribution in situations where the number of trials is large and the probability of success is small. This is because as the number of trials increases and the probability of success decreases, the distribution of the number of successes becomes increasingly similar to the Poisson distribution."
   ]
  },
  {
   "cell_type": "markdown",
   "id": "9f91c5a9",
   "metadata": {},
   "source": [
    "### 10.Define covariance."
   ]
  },
  {
   "cell_type": "markdown",
   "id": "bb7996c1",
   "metadata": {},
   "source": [
    "Covariance is a statistical measure that describes the degree to which two random variables vary together. More specifically, it measures the linear relationship between two variables. If the two variables tend to move in the same direction (i.e., when one variable is high, the other tends to be high as well), then the covariance will be positive. If they tend to move in opposite directions (i.e., when one variable is high, the other tends to be low), then the covariance will be negative. If there is no linear relationship between the two variables, then the covariance will be close to zero.\n",
    "\n",
    "The formula for covariance is:\n",
    "\n",
    "cov(X,Y) = E[(X - E[X])(Y - E[Y])]\n",
    "\n",
    "where:\n",
    "\n",
    "X and Y are the two random variables\n",
    "E[X] and E[Y] are the expected values of X and Y, respectively\n",
    "Covariance can take on any value between negative infinity and positive infinity, and its magnitude is dependent on the scale of the variables being measured. As a result, it can be difficult to interpret the magnitude of the covariance value without additional context."
   ]
  },
  {
   "cell_type": "markdown",
   "id": "78f7b3da",
   "metadata": {},
   "source": [
    "### 11.Define correlation"
   ]
  },
  {
   "cell_type": "markdown",
   "id": "c6186af5",
   "metadata": {},
   "source": [
    "Correlation is a statistical measure that describes the strength and direction of the linear relationship between two random variables. Correlation ranges between -1 and +1, with -1 indicating a perfect negative correlation (i.e., when one variable increases, the other variable decreases), +1 indicating a perfect positive correlation (i.e., when one variable increases, the other variable increases), and 0 indicating no correlation (i.e., no linear relationship between the two variables).\n",
    "\n",
    "The formula for correlation is:\n",
    "\n",
    "corr(X,Y) = cov(X,Y) / (std(X) * std(Y))\n",
    "\n",
    "where:\n",
    "\n",
    "X and Y are the two random variables\n",
    "cov(X,Y) is the covariance between X and Y\n",
    "std(X) and std(Y) are the standard deviations of X and Y, respectively\n",
    "Correlation is often used in data analysis to identify the degree of association between two variables. However, it is important to note that correlation only measures the strength of a linear relationship between two variables and does not necessarily imply causation."
   ]
  },
  {
   "cell_type": "markdown",
   "id": "ef045f97",
   "metadata": {},
   "source": [
    "### 12.Define sampling with replacement. Give example."
   ]
  },
  {
   "cell_type": "markdown",
   "id": "6c04f098",
   "metadata": {},
   "source": [
    "Sampling with replacement is a method of selecting a sample of elements from a population where each selected element is replaced before the next selection. In other words, each time an element is selected, it remains in the population and has the same chance of being selected again on the next draw.\n",
    "\n",
    "For example, suppose we have a bag with 10 marbles, numbered 1 through 10. We want to select a sample of 3 marbles from the bag using sampling with replacement. We randomly select one marble from the bag, record its number, and put it back in the bag before making the next selection. We repeat this process three times, resulting in a sample of 3 marbles. It is possible that we may select the same marble multiple times, as each marble has the same chance of being selected on each draw.\n",
    "\n",
    "Sampling with replacement is commonly used in simulation studies and certain statistical tests, such as bootstrapping."
   ]
  },
  {
   "cell_type": "markdown",
   "id": "47e55604",
   "metadata": {},
   "source": [
    "### 13.What is sampling without replacement? Give example."
   ]
  },
  {
   "cell_type": "markdown",
   "id": "c9948a06",
   "metadata": {},
   "source": [
    "Sampling without replacement is a method of selecting a sample of elements from a population where each selected element is not replaced before the next selection. In other words, once an element is selected, it is removed from the population and cannot be selected again.\n",
    "\n",
    "For example, suppose we have a deck of 52 playing cards. We want to select a sample of 5 cards from the deck using sampling without replacement. We randomly select one card from the deck, record its suit and rank, and remove it from the deck before making the next selection. We repeat this process four more times, resulting in a sample of 5 cards. Each subsequent draw has fewer cards to choose from, reducing the chance of selecting the same card multiple times.\n",
    "\n",
    "Sampling without replacement is commonly used in research studies to ensure that each participant or sample unit is only included once in the sample, and to reduce the likelihood of bias or skewness in the sample."
   ]
  },
  {
   "cell_type": "markdown",
   "id": "438630c9",
   "metadata": {},
   "source": [
    "### 14.What is hypothesis? Give example."
   ]
  },
  {
   "cell_type": "markdown",
   "id": "4ea2458c",
   "metadata": {},
   "source": [
    "A hypothesis is a proposed explanation or prediction for an observed phenomenon, based on existing knowledge and assumptions. In research, a hypothesis is a statement about the expected relationship between variables or the expected outcome of an experiment or study.\n",
    "\n",
    "For example, a researcher may hypothesize that there is a relationship between the amount of sunlight plants receive and their growth rate. The hypothesis would state that \"plants exposed to more sunlight will have a higher growth rate than plants exposed to less sunlight.\"\n",
    "\n",
    "To test this hypothesis, the researcher would design an experiment that manipulates the amount of sunlight plants receive and measures their growth rate. If the results of the experiment support the hypothesis, then the researcher can conclude that there is a relationship between sunlight and plant growth. If the results do not support the hypothesis, then the researcher must revise or reject the hypothesis and form a new one based on the findings."
   ]
  }
 ],
 "metadata": {
  "kernelspec": {
   "display_name": "Python 3 (ipykernel)",
   "language": "python",
   "name": "python3"
  },
  "language_info": {
   "codemirror_mode": {
    "name": "ipython",
    "version": 3
   },
   "file_extension": ".py",
   "mimetype": "text/x-python",
   "name": "python",
   "nbconvert_exporter": "python",
   "pygments_lexer": "ipython3",
   "version": "3.9.13"
  }
 },
 "nbformat": 4,
 "nbformat_minor": 5
}
